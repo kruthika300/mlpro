{
 "cells": [
  {
   "cell_type": "code",
   "execution_count": 2,
   "metadata": {
    "_cell_guid": "b1076dfc-b9ad-4769-8c92-a6c4dae69d19",
    "_uuid": "8f2839f25d086af736a60e9eeb907d3b93b6e0e5",
    "execution": {
     "iopub.execute_input": "2021-07-11T07:24:06.037563Z",
     "iopub.status.busy": "2021-07-11T07:24:06.036839Z",
     "iopub.status.idle": "2021-07-11T07:24:07.258145Z",
     "shell.execute_reply": "2021-07-11T07:24:07.258817Z",
     "shell.execute_reply.started": "2021-07-11T07:19:30.868286Z"
    },
    "papermill": {
     "duration": 1.257164,
     "end_time": "2021-07-11T07:24:07.259181",
     "exception": false,
     "start_time": "2021-07-11T07:24:06.002017",
     "status": "completed"
    },
    "tags": []
   },
   "outputs": [],
   "source": [
    "#load input library #\n",
    "\n",
    "import numpy as np # linear algebra\n",
    "import pandas as pd # data processing, CSV file I/O (e.g. pd.read_csv)\n",
    "\n",
    "import matplotlib.pyplot as plt###\n",
    "                               ### Visualisation tools\n",
    "import seaborn as sns          ###\n",
    "\n",
    "from sklearn.linear_model import LinearRegression,LogisticRegression,SGDRegressor , Ridge,Lasso\n",
    "from sklearn.model_selection import train_test_split,GridSearchCV\n",
    "from sklearn.preprocessing import LabelEncoder,StandardScaler\n",
    "from warnings import filterwarnings\n",
    "filterwarnings('ignore')\n",
    "from sklearn.metrics import accuracy_score,precision_score,confusion_matrix\n",
    "from sklearn.metrics import classification_report,roc_curve,roc_auc_score\n",
    "from sklearn.neighbors import KNeighborsClassifier\n",
    "from sklearn.naive_bayes import GaussianNB\n",
    "\n",
    "\n",
    "\n"
   ]
  },
  {
   "cell_type": "code",
   "execution_count": 6,
   "metadata": {
    "execution": {
     "iopub.execute_input": "2021-07-11T07:24:07.311489Z",
     "iopub.status.busy": "2021-07-11T07:24:07.310905Z",
     "iopub.status.idle": "2021-07-11T07:24:21.395538Z",
     "shell.execute_reply": "2021-07-11T07:24:21.395004Z",
     "shell.execute_reply.started": "2021-07-11T07:19:30.881833Z"
    },
    "papermill": {
     "duration": 14.111825,
     "end_time": "2021-07-11T07:24:21.395711",
     "exception": false,
     "start_time": "2021-07-11T07:24:07.283886",
     "status": "completed"
    },
    "tags": []
   },
   "outputs": [],
   "source": [
    "train = pd.read_csv('fraudTrain.csv')\n",
    "test = pd.read_csv('fraudTest.csv')"
   ]
  },
  {
   "cell_type": "code",
   "execution_count": 7,
   "metadata": {
    "execution": {
     "iopub.execute_input": "2021-07-11T07:24:21.455931Z",
     "iopub.status.busy": "2021-07-11T07:24:21.454641Z",
     "iopub.status.idle": "2021-07-11T07:24:23.323154Z",
     "shell.execute_reply": "2021-07-11T07:24:23.323645Z",
     "shell.execute_reply.started": "2021-07-11T07:19:40.935087Z"
    },
    "papermill": {
     "duration": 1.904849,
     "end_time": "2021-07-11T07:24:23.323838",
     "exception": false,
     "start_time": "2021-07-11T07:24:21.418989",
     "status": "completed"
    },
    "tags": []
   },
   "outputs": [],
   "source": [
    "#Concatenate the splitted data\n",
    "df = pd.concat([train,test],ignore_index=True)\n",
    "df.drop('Unnamed: 0',axis=1,inplace=True)"
   ]
  },
  {
   "cell_type": "code",
   "execution_count": 8,
   "metadata": {
    "execution": {
     "iopub.execute_input": "2021-07-11T07:24:23.379715Z",
     "iopub.status.busy": "2021-07-11T07:24:23.378890Z",
     "iopub.status.idle": "2021-07-11T07:24:23.406499Z",
     "shell.execute_reply": "2021-07-11T07:24:23.405943Z",
     "shell.execute_reply.started": "2021-07-11T07:19:42.807423Z"
    },
    "papermill": {
     "duration": 0.059744,
     "end_time": "2021-07-11T07:24:23.406630",
     "exception": false,
     "start_time": "2021-07-11T07:24:23.346886",
     "status": "completed"
    },
    "tags": []
   },
   "outputs": [
    {
     "data": {
      "text/html": [
       "<div>\n",
       "<style scoped>\n",
       "    .dataframe tbody tr th:only-of-type {\n",
       "        vertical-align: middle;\n",
       "    }\n",
       "\n",
       "    .dataframe tbody tr th {\n",
       "        vertical-align: top;\n",
       "    }\n",
       "\n",
       "    .dataframe thead th {\n",
       "        text-align: right;\n",
       "    }\n",
       "</style>\n",
       "<table border=\"1\" class=\"dataframe\">\n",
       "  <thead>\n",
       "    <tr style=\"text-align: right;\">\n",
       "      <th></th>\n",
       "      <th>trans_date_trans_time</th>\n",
       "      <th>cc_num</th>\n",
       "      <th>merchant</th>\n",
       "      <th>category</th>\n",
       "      <th>amt</th>\n",
       "      <th>first</th>\n",
       "      <th>last</th>\n",
       "      <th>gender</th>\n",
       "      <th>street</th>\n",
       "      <th>city</th>\n",
       "      <th>...</th>\n",
       "      <th>lat</th>\n",
       "      <th>long</th>\n",
       "      <th>city_pop</th>\n",
       "      <th>job</th>\n",
       "      <th>dob</th>\n",
       "      <th>trans_num</th>\n",
       "      <th>unix_time</th>\n",
       "      <th>merch_lat</th>\n",
       "      <th>merch_long</th>\n",
       "      <th>is_fraud</th>\n",
       "    </tr>\n",
       "  </thead>\n",
       "  <tbody>\n",
       "    <tr>\n",
       "      <th>0</th>\n",
       "      <td>2019-01-01 00:00:18</td>\n",
       "      <td>2703186189652095</td>\n",
       "      <td>fraud_Rippin, Kub and Mann</td>\n",
       "      <td>misc_net</td>\n",
       "      <td>4.97</td>\n",
       "      <td>Jennifer</td>\n",
       "      <td>Banks</td>\n",
       "      <td>F</td>\n",
       "      <td>561 Perry Cove</td>\n",
       "      <td>Moravian Falls</td>\n",
       "      <td>...</td>\n",
       "      <td>36.0788</td>\n",
       "      <td>-81.1781</td>\n",
       "      <td>3495</td>\n",
       "      <td>Psychologist, counselling</td>\n",
       "      <td>1988-03-09</td>\n",
       "      <td>0b242abb623afc578575680df30655b9</td>\n",
       "      <td>1325376018</td>\n",
       "      <td>36.011293</td>\n",
       "      <td>-82.048315</td>\n",
       "      <td>0</td>\n",
       "    </tr>\n",
       "    <tr>\n",
       "      <th>1</th>\n",
       "      <td>2019-01-01 00:00:44</td>\n",
       "      <td>630423337322</td>\n",
       "      <td>fraud_Heller, Gutmann and Zieme</td>\n",
       "      <td>grocery_pos</td>\n",
       "      <td>107.23</td>\n",
       "      <td>Stephanie</td>\n",
       "      <td>Gill</td>\n",
       "      <td>F</td>\n",
       "      <td>43039 Riley Greens Suite 393</td>\n",
       "      <td>Orient</td>\n",
       "      <td>...</td>\n",
       "      <td>48.8878</td>\n",
       "      <td>-118.2105</td>\n",
       "      <td>149</td>\n",
       "      <td>Special educational needs teacher</td>\n",
       "      <td>1978-06-21</td>\n",
       "      <td>1f76529f8574734946361c461b024d99</td>\n",
       "      <td>1325376044</td>\n",
       "      <td>49.159047</td>\n",
       "      <td>-118.186462</td>\n",
       "      <td>0</td>\n",
       "    </tr>\n",
       "    <tr>\n",
       "      <th>2</th>\n",
       "      <td>2019-01-01 00:00:51</td>\n",
       "      <td>38859492057661</td>\n",
       "      <td>fraud_Lind-Buckridge</td>\n",
       "      <td>entertainment</td>\n",
       "      <td>220.11</td>\n",
       "      <td>Edward</td>\n",
       "      <td>Sanchez</td>\n",
       "      <td>M</td>\n",
       "      <td>594 White Dale Suite 530</td>\n",
       "      <td>Malad City</td>\n",
       "      <td>...</td>\n",
       "      <td>42.1808</td>\n",
       "      <td>-112.2620</td>\n",
       "      <td>4154</td>\n",
       "      <td>Nature conservation officer</td>\n",
       "      <td>1962-01-19</td>\n",
       "      <td>a1a22d70485983eac12b5b88dad1cf95</td>\n",
       "      <td>1325376051</td>\n",
       "      <td>43.150704</td>\n",
       "      <td>-112.154481</td>\n",
       "      <td>0</td>\n",
       "    </tr>\n",
       "    <tr>\n",
       "      <th>3</th>\n",
       "      <td>2019-01-01 00:01:16</td>\n",
       "      <td>3534093764340240</td>\n",
       "      <td>fraud_Kutch, Hermiston and Farrell</td>\n",
       "      <td>gas_transport</td>\n",
       "      <td>45.00</td>\n",
       "      <td>Jeremy</td>\n",
       "      <td>White</td>\n",
       "      <td>M</td>\n",
       "      <td>9443 Cynthia Court Apt. 038</td>\n",
       "      <td>Boulder</td>\n",
       "      <td>...</td>\n",
       "      <td>46.2306</td>\n",
       "      <td>-112.1138</td>\n",
       "      <td>1939</td>\n",
       "      <td>Patent attorney</td>\n",
       "      <td>1967-01-12</td>\n",
       "      <td>6b849c168bdad6f867558c3793159a81</td>\n",
       "      <td>1325376076</td>\n",
       "      <td>47.034331</td>\n",
       "      <td>-112.561071</td>\n",
       "      <td>0</td>\n",
       "    </tr>\n",
       "    <tr>\n",
       "      <th>4</th>\n",
       "      <td>2019-01-01 00:03:06</td>\n",
       "      <td>375534208663984</td>\n",
       "      <td>fraud_Keeling-Crist</td>\n",
       "      <td>misc_pos</td>\n",
       "      <td>41.96</td>\n",
       "      <td>Tyler</td>\n",
       "      <td>Garcia</td>\n",
       "      <td>M</td>\n",
       "      <td>408 Bradley Rest</td>\n",
       "      <td>Doe Hill</td>\n",
       "      <td>...</td>\n",
       "      <td>38.4207</td>\n",
       "      <td>-79.4629</td>\n",
       "      <td>99</td>\n",
       "      <td>Dance movement psychotherapist</td>\n",
       "      <td>1986-03-28</td>\n",
       "      <td>a41d7549acf90789359a9aa5346dcb46</td>\n",
       "      <td>1325376186</td>\n",
       "      <td>38.674999</td>\n",
       "      <td>-78.632459</td>\n",
       "      <td>0</td>\n",
       "    </tr>\n",
       "  </tbody>\n",
       "</table>\n",
       "<p>5 rows × 22 columns</p>\n",
       "</div>"
      ],
      "text/plain": [
       "  trans_date_trans_time            cc_num                            merchant  \\\n",
       "0   2019-01-01 00:00:18  2703186189652095          fraud_Rippin, Kub and Mann   \n",
       "1   2019-01-01 00:00:44      630423337322     fraud_Heller, Gutmann and Zieme   \n",
       "2   2019-01-01 00:00:51    38859492057661                fraud_Lind-Buckridge   \n",
       "3   2019-01-01 00:01:16  3534093764340240  fraud_Kutch, Hermiston and Farrell   \n",
       "4   2019-01-01 00:03:06   375534208663984                 fraud_Keeling-Crist   \n",
       "\n",
       "        category     amt      first     last gender  \\\n",
       "0       misc_net    4.97   Jennifer    Banks      F   \n",
       "1    grocery_pos  107.23  Stephanie     Gill      F   \n",
       "2  entertainment  220.11     Edward  Sanchez      M   \n",
       "3  gas_transport   45.00     Jeremy    White      M   \n",
       "4       misc_pos   41.96      Tyler   Garcia      M   \n",
       "\n",
       "                         street            city  ...      lat      long  \\\n",
       "0                561 Perry Cove  Moravian Falls  ...  36.0788  -81.1781   \n",
       "1  43039 Riley Greens Suite 393          Orient  ...  48.8878 -118.2105   \n",
       "2      594 White Dale Suite 530      Malad City  ...  42.1808 -112.2620   \n",
       "3   9443 Cynthia Court Apt. 038         Boulder  ...  46.2306 -112.1138   \n",
       "4              408 Bradley Rest        Doe Hill  ...  38.4207  -79.4629   \n",
       "\n",
       "   city_pop                                job         dob  \\\n",
       "0      3495          Psychologist, counselling  1988-03-09   \n",
       "1       149  Special educational needs teacher  1978-06-21   \n",
       "2      4154        Nature conservation officer  1962-01-19   \n",
       "3      1939                    Patent attorney  1967-01-12   \n",
       "4        99     Dance movement psychotherapist  1986-03-28   \n",
       "\n",
       "                          trans_num   unix_time  merch_lat  merch_long  \\\n",
       "0  0b242abb623afc578575680df30655b9  1325376018  36.011293  -82.048315   \n",
       "1  1f76529f8574734946361c461b024d99  1325376044  49.159047 -118.186462   \n",
       "2  a1a22d70485983eac12b5b88dad1cf95  1325376051  43.150704 -112.154481   \n",
       "3  6b849c168bdad6f867558c3793159a81  1325376076  47.034331 -112.561071   \n",
       "4  a41d7549acf90789359a9aa5346dcb46  1325376186  38.674999  -78.632459   \n",
       "\n",
       "   is_fraud  \n",
       "0         0  \n",
       "1         0  \n",
       "2         0  \n",
       "3         0  \n",
       "4         0  \n",
       "\n",
       "[5 rows x 22 columns]"
      ]
     },
     "execution_count": 8,
     "metadata": {},
     "output_type": "execute_result"
    }
   ],
   "source": [
    "df.head()"
   ]
  },
  {
   "cell_type": "code",
   "execution_count": 10,
   "metadata": {
    "execution": {
     "iopub.execute_input": "2021-07-11T07:24:23.458287Z",
     "iopub.status.busy": "2021-07-11T07:24:23.457725Z",
     "iopub.status.idle": "2021-07-11T07:24:23.461137Z",
     "shell.execute_reply": "2021-07-11T07:24:23.460582Z",
     "shell.execute_reply.started": "2021-07-11T07:19:42.836389Z"
    },
    "papermill": {
     "duration": 0.030906,
     "end_time": "2021-07-11T07:24:23.461262",
     "exception": false,
     "start_time": "2021-07-11T07:24:23.430356",
     "status": "completed"
    },
    "tags": []
   },
   "outputs": [
    {
     "data": {
      "text/plain": [
       "(1852394, 22)"
      ]
     },
     "execution_count": 10,
     "metadata": {},
     "output_type": "execute_result"
    }
   ],
   "source": [
    "#Shape of the data (rows,columns)\n",
    "df.shape"
   ]
  },
  {
   "cell_type": "code",
   "execution_count": 11,
   "metadata": {
    "execution": {
     "iopub.execute_input": "2021-07-11T07:24:23.513121Z",
     "iopub.status.busy": "2021-07-11T07:24:23.512566Z",
     "iopub.status.idle": "2021-07-11T07:24:23.529958Z",
     "shell.execute_reply": "2021-07-11T07:24:23.529299Z",
     "shell.execute_reply.started": "2021-07-11T07:19:42.850381Z"
    },
    "papermill": {
     "duration": 0.043748,
     "end_time": "2021-07-11T07:24:23.530147",
     "exception": false,
     "start_time": "2021-07-11T07:24:23.486399",
     "status": "completed"
    },
    "tags": []
   },
   "outputs": [
    {
     "name": "stdout",
     "output_type": "stream",
     "text": [
      "<class 'pandas.core.frame.DataFrame'>\n",
      "RangeIndex: 1852394 entries, 0 to 1852393\n",
      "Data columns (total 22 columns):\n",
      " #   Column                 Dtype  \n",
      "---  ------                 -----  \n",
      " 0   trans_date_trans_time  object \n",
      " 1   cc_num                 int64  \n",
      " 2   merchant               object \n",
      " 3   category               object \n",
      " 4   amt                    float64\n",
      " 5   first                  object \n",
      " 6   last                   object \n",
      " 7   gender                 object \n",
      " 8   street                 object \n",
      " 9   city                   object \n",
      " 10  state                  object \n",
      " 11  zip                    int64  \n",
      " 12  lat                    float64\n",
      " 13  long                   float64\n",
      " 14  city_pop               int64  \n",
      " 15  job                    object \n",
      " 16  dob                    object \n",
      " 17  trans_num              object \n",
      " 18  unix_time              int64  \n",
      " 19  merch_lat              float64\n",
      " 20  merch_long             float64\n",
      " 21  is_fraud               int64  \n",
      "dtypes: float64(5), int64(5), object(12)\n",
      "memory usage: 310.9+ MB\n"
     ]
    }
   ],
   "source": [
    "#Finding dtypes and other basic info about the features\n",
    "df.info()"
   ]
  },
  {
   "cell_type": "code",
   "execution_count": 12,
   "metadata": {
    "execution": {
     "iopub.execute_input": "2021-07-11T07:24:23.785209Z",
     "iopub.status.busy": "2021-07-11T07:24:23.694289Z",
     "iopub.status.idle": "2021-07-11T07:24:23.840831Z",
     "shell.execute_reply": "2021-07-11T07:24:23.840331Z",
     "shell.execute_reply.started": "2021-07-11T07:19:42.873425Z"
    },
    "papermill": {
     "duration": 0.285645,
     "end_time": "2021-07-11T07:24:23.840970",
     "exception": false,
     "start_time": "2021-07-11T07:24:23.555325",
     "status": "completed"
    },
    "tags": []
   },
   "outputs": [],
   "source": [
    "#dividing data into categorical and numerical\n",
    "df_cat = df.select_dtypes(include = 'object')\n",
    "df_num = df.select_dtypes(exclude = 'object')\n",
    "le = LabelEncoder()"
   ]
  },
  {
   "cell_type": "code",
   "execution_count": 14,
   "metadata": {
    "execution": {
     "iopub.execute_input": "2021-07-11T07:24:24.712552Z",
     "iopub.status.busy": "2021-07-11T07:24:24.711932Z",
     "iopub.status.idle": "2021-07-11T07:24:24.790139Z",
     "shell.execute_reply": "2021-07-11T07:24:24.789586Z",
     "shell.execute_reply.started": "2021-07-11T07:19:43.154372Z"
    },
    "papermill": {
     "duration": 0.925102,
     "end_time": "2021-07-11T07:24:24.790284",
     "exception": false,
     "start_time": "2021-07-11T07:24:23.865182",
     "status": "completed"
    },
    "tags": []
   },
   "outputs": [],
   "source": [
    "nan_df = pd.DataFrame(data = (df.isnull().sum()/len(df))*100,columns = ['% of missing values'])"
   ]
  },
  {
   "cell_type": "code",
   "execution_count": 15,
   "metadata": {
    "execution": {
     "iopub.execute_input": "2021-07-11T07:24:24.851265Z",
     "iopub.status.busy": "2021-07-11T07:24:24.850379Z",
     "iopub.status.idle": "2021-07-11T07:24:24.853901Z",
     "shell.execute_reply": "2021-07-11T07:24:24.854362Z",
     "shell.execute_reply.started": "2021-07-11T07:19:44.043003Z"
    },
    "papermill": {
     "duration": 0.038705,
     "end_time": "2021-07-11T07:24:24.854527",
     "exception": false,
     "start_time": "2021-07-11T07:24:24.815822",
     "status": "completed"
    },
    "tags": []
   },
   "outputs": [
    {
     "data": {
      "text/html": [
       "<div>\n",
       "<style scoped>\n",
       "    .dataframe tbody tr th:only-of-type {\n",
       "        vertical-align: middle;\n",
       "    }\n",
       "\n",
       "    .dataframe tbody tr th {\n",
       "        vertical-align: top;\n",
       "    }\n",
       "\n",
       "    .dataframe thead th {\n",
       "        text-align: right;\n",
       "    }\n",
       "</style>\n",
       "<table border=\"1\" class=\"dataframe\">\n",
       "  <thead>\n",
       "    <tr style=\"text-align: right;\">\n",
       "      <th></th>\n",
       "      <th>% of missing values</th>\n",
       "    </tr>\n",
       "  </thead>\n",
       "  <tbody>\n",
       "    <tr>\n",
       "      <th>trans_date_trans_time</th>\n",
       "      <td>0.0</td>\n",
       "    </tr>\n",
       "    <tr>\n",
       "      <th>cc_num</th>\n",
       "      <td>0.0</td>\n",
       "    </tr>\n",
       "    <tr>\n",
       "      <th>merchant</th>\n",
       "      <td>0.0</td>\n",
       "    </tr>\n",
       "    <tr>\n",
       "      <th>category</th>\n",
       "      <td>0.0</td>\n",
       "    </tr>\n",
       "    <tr>\n",
       "      <th>amt</th>\n",
       "      <td>0.0</td>\n",
       "    </tr>\n",
       "    <tr>\n",
       "      <th>first</th>\n",
       "      <td>0.0</td>\n",
       "    </tr>\n",
       "    <tr>\n",
       "      <th>last</th>\n",
       "      <td>0.0</td>\n",
       "    </tr>\n",
       "    <tr>\n",
       "      <th>gender</th>\n",
       "      <td>0.0</td>\n",
       "    </tr>\n",
       "    <tr>\n",
       "      <th>street</th>\n",
       "      <td>0.0</td>\n",
       "    </tr>\n",
       "    <tr>\n",
       "      <th>city</th>\n",
       "      <td>0.0</td>\n",
       "    </tr>\n",
       "    <tr>\n",
       "      <th>state</th>\n",
       "      <td>0.0</td>\n",
       "    </tr>\n",
       "    <tr>\n",
       "      <th>zip</th>\n",
       "      <td>0.0</td>\n",
       "    </tr>\n",
       "    <tr>\n",
       "      <th>lat</th>\n",
       "      <td>0.0</td>\n",
       "    </tr>\n",
       "    <tr>\n",
       "      <th>long</th>\n",
       "      <td>0.0</td>\n",
       "    </tr>\n",
       "    <tr>\n",
       "      <th>city_pop</th>\n",
       "      <td>0.0</td>\n",
       "    </tr>\n",
       "    <tr>\n",
       "      <th>job</th>\n",
       "      <td>0.0</td>\n",
       "    </tr>\n",
       "    <tr>\n",
       "      <th>dob</th>\n",
       "      <td>0.0</td>\n",
       "    </tr>\n",
       "    <tr>\n",
       "      <th>trans_num</th>\n",
       "      <td>0.0</td>\n",
       "    </tr>\n",
       "    <tr>\n",
       "      <th>unix_time</th>\n",
       "      <td>0.0</td>\n",
       "    </tr>\n",
       "    <tr>\n",
       "      <th>merch_lat</th>\n",
       "      <td>0.0</td>\n",
       "    </tr>\n",
       "    <tr>\n",
       "      <th>merch_long</th>\n",
       "      <td>0.0</td>\n",
       "    </tr>\n",
       "    <tr>\n",
       "      <th>is_fraud</th>\n",
       "      <td>0.0</td>\n",
       "    </tr>\n",
       "  </tbody>\n",
       "</table>\n",
       "</div>"
      ],
      "text/plain": [
       "                       % of missing values\n",
       "trans_date_trans_time                  0.0\n",
       "cc_num                                 0.0\n",
       "merchant                               0.0\n",
       "category                               0.0\n",
       "amt                                    0.0\n",
       "first                                  0.0\n",
       "last                                   0.0\n",
       "gender                                 0.0\n",
       "street                                 0.0\n",
       "city                                   0.0\n",
       "state                                  0.0\n",
       "zip                                    0.0\n",
       "lat                                    0.0\n",
       "long                                   0.0\n",
       "city_pop                               0.0\n",
       "job                                    0.0\n",
       "dob                                    0.0\n",
       "trans_num                              0.0\n",
       "unix_time                              0.0\n",
       "merch_lat                              0.0\n",
       "merch_long                             0.0\n",
       "is_fraud                               0.0"
      ]
     },
     "execution_count": 15,
     "metadata": {},
     "output_type": "execute_result"
    }
   ],
   "source": [
    "nan_df"
   ]
  },
  {
   "cell_type": "code",
   "execution_count": 10,
   "metadata": {
    "execution": {
     "iopub.execute_input": "2021-07-11T07:24:24.907347Z",
     "iopub.status.busy": "2021-07-11T07:24:24.906474Z",
     "iopub.status.idle": "2021-07-11T07:24:24.910567Z",
     "shell.execute_reply": "2021-07-11T07:24:24.910030Z",
     "shell.execute_reply.started": "2021-07-11T07:19:44.056408Z"
    },
    "papermill": {
     "duration": 0.031604,
     "end_time": "2021-07-11T07:24:24.910706",
     "exception": false,
     "start_time": "2021-07-11T07:24:24.879102",
     "status": "completed"
    },
    "tags": []
   },
   "outputs": [],
   "source": [
    "#there is no null values"
   ]
  },
  {
   "cell_type": "code",
   "execution_count": null,
   "metadata": {
    "papermill": {
     "duration": 0.034438,
     "end_time": "2021-07-11T07:24:24.971319",
     "exception": false,
     "start_time": "2021-07-11T07:24:24.936881",
     "status": "completed"
    },
    "tags": []
   },
   "outputs": [],
   "source": []
  },
  {
   "cell_type": "code",
   "execution_count": null,
   "metadata": {
    "papermill": {
     "duration": 0.030688,
     "end_time": "2021-07-11T07:24:25.033989",
     "exception": false,
     "start_time": "2021-07-11T07:24:25.003301",
     "status": "completed"
    },
    "tags": []
   },
   "outputs": [],
   "source": []
  },
  {
   "cell_type": "code",
   "execution_count": 16,
   "metadata": {
    "execution": {
     "iopub.execute_input": "2021-07-11T07:24:25.143480Z",
     "iopub.status.busy": "2021-07-11T07:24:25.142308Z",
     "iopub.status.idle": "2021-07-11T07:24:25.412670Z",
     "shell.execute_reply": "2021-07-11T07:24:25.411778Z",
     "shell.execute_reply.started": "2021-07-11T07:19:44.068054Z"
    },
    "papermill": {
     "duration": 0.352699,
     "end_time": "2021-07-11T07:24:25.412868",
     "exception": false,
     "start_time": "2021-07-11T07:24:25.060169",
     "status": "completed"
    },
    "tags": []
   },
   "outputs": [],
   "source": [
    "df['gender_le']  = le.fit_transform(df['gender'])\n"
   ]
  },
  {
   "cell_type": "code",
   "execution_count": 28,
   "metadata": {
    "execution": {
     "iopub.execute_input": "2021-07-11T07:24:25.474308Z",
     "iopub.status.busy": "2021-07-11T07:24:25.473023Z",
     "iopub.status.idle": "2021-07-11T07:24:25.603541Z",
     "shell.execute_reply": "2021-07-11T07:24:25.603057Z",
     "shell.execute_reply.started": "2021-07-11T07:19:44.399616Z"
    },
    "papermill": {
     "duration": 0.16082,
     "end_time": "2021-07-11T07:24:25.603692",
     "exception": false,
     "start_time": "2021-07-11T07:24:25.442872",
     "status": "completed"
    },
    "tags": []
   },
   "outputs": [],
   "source": [
    "# Seperating  numerical from nominal\n",
    "# cutting off some data to avoid heavy cpu usage\n",
    "df2 = df.select_dtypes(exclude = 'object')\n",
    "df2 = df2.loc[:14999]\n"
   ]
  },
  {
   "cell_type": "code",
   "execution_count": 29,
   "metadata": {
    "execution": {
     "iopub.execute_input": "2021-07-11T07:24:25.667778Z",
     "iopub.status.busy": "2021-07-11T07:24:25.666915Z",
     "iopub.status.idle": "2021-07-11T07:24:25.670368Z",
     "shell.execute_reply": "2021-07-11T07:24:25.670836Z",
     "shell.execute_reply.started": "2021-07-11T07:19:44.546998Z"
    },
    "papermill": {
     "duration": 0.042369,
     "end_time": "2021-07-11T07:24:25.671001",
     "exception": false,
     "start_time": "2021-07-11T07:24:25.628632",
     "status": "completed"
    },
    "tags": []
   },
   "outputs": [
    {
     "data": {
      "text/html": [
       "<div>\n",
       "<style scoped>\n",
       "    .dataframe tbody tr th:only-of-type {\n",
       "        vertical-align: middle;\n",
       "    }\n",
       "\n",
       "    .dataframe tbody tr th {\n",
       "        vertical-align: top;\n",
       "    }\n",
       "\n",
       "    .dataframe thead th {\n",
       "        text-align: right;\n",
       "    }\n",
       "</style>\n",
       "<table border=\"1\" class=\"dataframe\">\n",
       "  <thead>\n",
       "    <tr style=\"text-align: right;\">\n",
       "      <th></th>\n",
       "      <th>cc_num</th>\n",
       "      <th>amt</th>\n",
       "      <th>zip</th>\n",
       "      <th>lat</th>\n",
       "      <th>long</th>\n",
       "      <th>city_pop</th>\n",
       "      <th>unix_time</th>\n",
       "      <th>merch_lat</th>\n",
       "      <th>merch_long</th>\n",
       "      <th>is_fraud</th>\n",
       "      <th>gender_le</th>\n",
       "    </tr>\n",
       "  </thead>\n",
       "  <tbody>\n",
       "    <tr>\n",
       "      <th>0</th>\n",
       "      <td>2703186189652095</td>\n",
       "      <td>4.97</td>\n",
       "      <td>28654</td>\n",
       "      <td>36.0788</td>\n",
       "      <td>-81.1781</td>\n",
       "      <td>3495</td>\n",
       "      <td>1325376018</td>\n",
       "      <td>36.011293</td>\n",
       "      <td>-82.048315</td>\n",
       "      <td>0</td>\n",
       "      <td>0</td>\n",
       "    </tr>\n",
       "    <tr>\n",
       "      <th>1</th>\n",
       "      <td>630423337322</td>\n",
       "      <td>107.23</td>\n",
       "      <td>99160</td>\n",
       "      <td>48.8878</td>\n",
       "      <td>-118.2105</td>\n",
       "      <td>149</td>\n",
       "      <td>1325376044</td>\n",
       "      <td>49.159047</td>\n",
       "      <td>-118.186462</td>\n",
       "      <td>0</td>\n",
       "      <td>0</td>\n",
       "    </tr>\n",
       "    <tr>\n",
       "      <th>2</th>\n",
       "      <td>38859492057661</td>\n",
       "      <td>220.11</td>\n",
       "      <td>83252</td>\n",
       "      <td>42.1808</td>\n",
       "      <td>-112.2620</td>\n",
       "      <td>4154</td>\n",
       "      <td>1325376051</td>\n",
       "      <td>43.150704</td>\n",
       "      <td>-112.154481</td>\n",
       "      <td>0</td>\n",
       "      <td>1</td>\n",
       "    </tr>\n",
       "    <tr>\n",
       "      <th>3</th>\n",
       "      <td>3534093764340240</td>\n",
       "      <td>45.00</td>\n",
       "      <td>59632</td>\n",
       "      <td>46.2306</td>\n",
       "      <td>-112.1138</td>\n",
       "      <td>1939</td>\n",
       "      <td>1325376076</td>\n",
       "      <td>47.034331</td>\n",
       "      <td>-112.561071</td>\n",
       "      <td>0</td>\n",
       "      <td>1</td>\n",
       "    </tr>\n",
       "    <tr>\n",
       "      <th>4</th>\n",
       "      <td>375534208663984</td>\n",
       "      <td>41.96</td>\n",
       "      <td>24433</td>\n",
       "      <td>38.4207</td>\n",
       "      <td>-79.4629</td>\n",
       "      <td>99</td>\n",
       "      <td>1325376186</td>\n",
       "      <td>38.674999</td>\n",
       "      <td>-78.632459</td>\n",
       "      <td>0</td>\n",
       "      <td>1</td>\n",
       "    </tr>\n",
       "  </tbody>\n",
       "</table>\n",
       "</div>"
      ],
      "text/plain": [
       "             cc_num     amt    zip      lat      long  city_pop   unix_time  \\\n",
       "0  2703186189652095    4.97  28654  36.0788  -81.1781      3495  1325376018   \n",
       "1      630423337322  107.23  99160  48.8878 -118.2105       149  1325376044   \n",
       "2    38859492057661  220.11  83252  42.1808 -112.2620      4154  1325376051   \n",
       "3  3534093764340240   45.00  59632  46.2306 -112.1138      1939  1325376076   \n",
       "4   375534208663984   41.96  24433  38.4207  -79.4629        99  1325376186   \n",
       "\n",
       "   merch_lat  merch_long  is_fraud  gender_le  \n",
       "0  36.011293  -82.048315         0          0  \n",
       "1  49.159047 -118.186462         0          0  \n",
       "2  43.150704 -112.154481         0          1  \n",
       "3  47.034331 -112.561071         0          1  \n",
       "4  38.674999  -78.632459         0          1  "
      ]
     },
     "execution_count": 29,
     "metadata": {},
     "output_type": "execute_result"
    }
   ],
   "source": [
    "df2.head()"
   ]
  },
  {
   "cell_type": "code",
   "execution_count": 30,
   "metadata": {
    "execution": {
     "iopub.execute_input": "2021-07-11T07:24:25.735943Z",
     "iopub.status.busy": "2021-07-11T07:24:25.735311Z",
     "iopub.status.idle": "2021-07-11T07:24:25.738079Z",
     "shell.execute_reply": "2021-07-11T07:24:25.737595Z",
     "shell.execute_reply.started": "2021-07-11T07:19:44.564898Z"
    },
    "papermill": {
     "duration": 0.041894,
     "end_time": "2021-07-11T07:24:25.738206",
     "exception": false,
     "start_time": "2021-07-11T07:24:25.696312",
     "status": "completed"
    },
    "tags": []
   },
   "outputs": [],
   "source": [
    "# dropping the feature which is not useful for data analysis\n",
    "df2 = df2.drop(['cc_num'],axis=1)\n",
    "# seperating target and independent features\n",
    "x = df2.drop('is_fraud',axis=1)\n",
    "y = df2['is_fraud']"
   ]
  },
  {
   "cell_type": "code",
   "execution_count": 31,
   "metadata": {
    "execution": {
     "iopub.execute_input": "2021-07-11T07:24:25.794717Z",
     "iopub.status.busy": "2021-07-11T07:24:25.794074Z",
     "iopub.status.idle": "2021-07-11T07:24:25.817833Z",
     "shell.execute_reply": "2021-07-11T07:24:25.817294Z",
     "shell.execute_reply.started": "2021-07-11T07:19:44.586400Z"
    },
    "papermill": {
     "duration": 0.053463,
     "end_time": "2021-07-11T07:24:25.817978",
     "exception": false,
     "start_time": "2021-07-11T07:24:25.764515",
     "status": "completed"
    },
    "tags": []
   },
   "outputs": [],
   "source": [
    "xtrain,xtest,ytrain,ytest = train_test_split(x,y,train_size = 0.7 , random_state = 10)"
   ]
  },
  {
   "cell_type": "code",
   "execution_count": 32,
   "metadata": {
    "execution": {
     "iopub.execute_input": "2021-07-11T07:24:25.932877Z",
     "iopub.status.busy": "2021-07-11T07:24:25.904993Z",
     "iopub.status.idle": "2021-07-11T07:24:25.936766Z",
     "shell.execute_reply": "2021-07-11T07:24:25.936236Z",
     "shell.execute_reply.started": "2021-07-11T07:19:44.623803Z"
    },
    "papermill": {
     "duration": 0.093638,
     "end_time": "2021-07-11T07:24:25.936901",
     "exception": false,
     "start_time": "2021-07-11T07:24:25.843263",
     "status": "completed"
    },
    "tags": []
   },
   "outputs": [],
   "source": [
    "df_num = df_num.drop(['cc_num'],axis=1)"
   ]
  },
  {
   "cell_type": "code",
   "execution_count": 33,
   "metadata": {
    "execution": {
     "iopub.execute_input": "2021-07-11T07:24:26.026454Z",
     "iopub.status.busy": "2021-07-11T07:24:26.018337Z",
     "iopub.status.idle": "2021-07-11T07:24:26.030361Z",
     "shell.execute_reply": "2021-07-11T07:24:26.029874Z",
     "shell.execute_reply.started": "2021-07-11T07:19:44.700442Z"
    },
    "papermill": {
     "duration": 0.068322,
     "end_time": "2021-07-11T07:24:26.030488",
     "exception": false,
     "start_time": "2021-07-11T07:24:25.962166",
     "status": "completed"
    },
    "tags": []
   },
   "outputs": [],
   "source": [
    "df_num = df_num.drop('is_fraud',axis=1)"
   ]
  },
  {
   "cell_type": "code",
   "execution_count": 34,
   "metadata": {
    "execution": {
     "iopub.execute_input": "2021-07-11T07:24:26.091628Z",
     "iopub.status.busy": "2021-07-11T07:24:26.090554Z",
     "iopub.status.idle": "2021-07-11T07:24:26.290221Z",
     "shell.execute_reply": "2021-07-11T07:24:26.289595Z",
     "shell.execute_reply.started": "2021-07-11T07:19:44.756756Z"
    },
    "papermill": {
     "duration": 0.234822,
     "end_time": "2021-07-11T07:24:26.290358",
     "exception": false,
     "start_time": "2021-07-11T07:24:26.055536",
     "status": "completed"
    },
    "tags": []
   },
   "outputs": [],
   "source": [
    "# Scaling the data\n",
    "ss = StandardScaler()\n",
    "xtrain[df_num.columns] = ss.fit_transform(xtrain[df_num.columns])\n",
    "xtest[df_num.columns] = ss.fit_transform(xtest[df_num.columns])\n"
   ]
  },
  {
   "cell_type": "code",
   "execution_count": 35,
   "metadata": {
    "execution": {
     "iopub.execute_input": "2021-07-11T07:24:26.349000Z",
     "iopub.status.busy": "2021-07-11T07:24:26.347498Z",
     "iopub.status.idle": "2021-07-11T07:24:27.095928Z",
     "shell.execute_reply": "2021-07-11T07:24:27.096669Z",
     "shell.execute_reply.started": "2021-07-11T07:19:44.996130Z"
    },
    "papermill": {
     "duration": 0.78135,
     "end_time": "2021-07-11T07:24:27.096952",
     "exception": false,
     "start_time": "2021-07-11T07:24:26.315602",
     "status": "completed"
    },
    "tags": []
   },
   "outputs": [],
   "source": [
    "#Building a Logistic Regression Model\n",
    "\n",
    "lr = LogisticRegression()\n",
    "model_v1 = lr.fit(xtrain,ytrain)"
   ]
  },
  {
   "cell_type": "code",
   "execution_count": 36,
   "metadata": {
    "execution": {
     "iopub.execute_input": "2021-07-11T07:24:27.224315Z",
     "iopub.status.busy": "2021-07-11T07:24:27.223196Z",
     "iopub.status.idle": "2021-07-11T07:24:27.558585Z",
     "shell.execute_reply": "2021-07-11T07:24:27.557642Z",
     "shell.execute_reply.started": "2021-07-11T07:19:45.617120Z"
    },
    "papermill": {
     "duration": 0.388967,
     "end_time": "2021-07-11T07:24:27.558746",
     "exception": false,
     "start_time": "2021-07-11T07:24:27.169779",
     "status": "completed"
    },
    "tags": []
   },
   "outputs": [
    {
     "data": {
      "image/png": "[encoded data removed]",
      "text/plain": [
       "<Figure size 432x288 with 2 Axes>"
      ]
     },
     "metadata": {
      "needs_background": "light"
     },
     "output_type": "display_data"
    }
   ],
   "source": [
    "#  predict and confusion matrix\n",
    "\n",
    "ypred = model_v1.predict(xtest)\n",
    "cm  = confusion_matrix(ytest,ypred)\n",
    "sns.heatmap(cm,annot=True)\n",
    "plt.show()"
   ]
  },
  {
   "cell_type": "code",
   "execution_count": 37,
   "metadata": {
    "execution": {
     "iopub.execute_input": "2021-07-11T07:24:27.615120Z",
     "iopub.status.busy": "2021-07-11T07:24:27.614336Z",
     "iopub.status.idle": "2021-07-11T07:24:27.682145Z",
     "shell.execute_reply": "2021-07-11T07:24:27.682625Z",
     "shell.execute_reply.started": "2021-07-11T07:19:46.315646Z"
    },
    "papermill": {
     "duration": 0.098384,
     "end_time": "2021-07-11T07:24:27.682804",
     "exception": false,
     "start_time": "2021-07-11T07:24:27.584420",
     "status": "completed"
    },
    "tags": []
   },
   "outputs": [
    {
     "name": "stdout",
     "output_type": "stream",
     "text": [
      "              precision    recall  f1-score   support\n",
      "\n",
      "           0       0.99      1.00      1.00      4474\n",
      "           1       0.00      0.00      0.00        26\n",
      "\n",
      "    accuracy                           0.99      4500\n",
      "   macro avg       0.50      0.50      0.50      4500\n",
      "weighted avg       0.99      0.99      0.99      4500\n",
      "\n"
     ]
    }
   ],
   "source": [
    "#classification report\n",
    "print(classification_report(ytest,ypred))"
   ]
  },
  {
   "cell_type": "code",
   "execution_count": 38,
   "metadata": {
    "execution": {
     "iopub.execute_input": "2021-07-11T07:24:27.741827Z",
     "iopub.status.busy": "2021-07-11T07:24:27.741257Z",
     "iopub.status.idle": "2021-07-11T07:24:31.151449Z",
     "shell.execute_reply": "2021-07-11T07:24:31.150425Z",
     "shell.execute_reply.started": "2021-07-11T07:19:46.386384Z"
    },
    "papermill": {
     "duration": 3.442651,
     "end_time": "2021-07-11T07:24:31.151616",
     "exception": false,
     "start_time": "2021-07-11T07:24:27.708965",
     "status": "completed"
    },
    "tags": []
   },
   "outputs": [],
   "source": [
    "#KNN model\n",
    "knn = KNeighborsClassifier()\n",
    "model_v2 = knn.fit(xtrain,ytrain)\n",
    "ypred1 = model_v2.predict(xtest)"
   ]
  },
  {
   "cell_type": "code",
   "execution_count": 39,
   "metadata": {
    "execution": {
     "iopub.execute_input": "2021-07-11T07:24:31.225165Z",
     "iopub.status.busy": "2021-07-11T07:24:31.224239Z",
     "iopub.status.idle": "2021-07-11T07:24:31.466740Z",
     "shell.execute_reply": "2021-07-11T07:24:31.466235Z",
     "shell.execute_reply.started": "2021-07-11T07:19:50.508309Z"
    },
    "papermill": {
     "duration": 0.282452,
     "end_time": "2021-07-11T07:24:31.466882",
     "exception": false,
     "start_time": "2021-07-11T07:24:31.184430",
     "status": "completed"
    },
    "tags": []
   },
   "outputs": [
    {
     "data": {
      "text/plain": [
       "<matplotlib.axes._subplots.AxesSubplot at 0x285821a5340>"
      ]
     },
     "execution_count": 39,
     "metadata": {},
     "output_type": "execute_result"
    },
    {
     "data": {
      "image/png": "[encoded data removed]",
      "text/plain": [
       "<Figure size 432x288 with 2 Axes>"
      ]
     },
     "metadata": {
      "needs_background": "light"
     },
     "output_type": "display_data"
    }
   ],
   "source": [
    "cm_knn = confusion_matrix(ytest,ypred1)\n",
    "sns.heatmap(cm_knn,annot=True)"
   ]
  },
  {
   "cell_type": "code",
   "execution_count": 40,
   "metadata": {
    "execution": {
     "iopub.execute_input": "2021-07-11T07:24:31.524832Z",
     "iopub.status.busy": "2021-07-11T07:24:31.524245Z",
     "iopub.status.idle": "2021-07-11T07:24:31.591869Z",
     "shell.execute_reply": "2021-07-11T07:24:31.591334Z",
     "shell.execute_reply.started": "2021-07-11T07:19:50.762038Z"
    },
    "papermill": {
     "duration": 0.098215,
     "end_time": "2021-07-11T07:24:31.592002",
     "exception": false,
     "start_time": "2021-07-11T07:24:31.493787",
     "status": "completed"
    },
    "tags": []
   },
   "outputs": [
    {
     "name": "stdout",
     "output_type": "stream",
     "text": [
      "              precision    recall  f1-score   support\n",
      "\n",
      "           0       0.99      1.00      1.00      4474\n",
      "           1       0.00      0.00      0.00        26\n",
      "\n",
      "    accuracy                           0.99      4500\n",
      "   macro avg       0.50      0.50      0.50      4500\n",
      "weighted avg       0.99      0.99      0.99      4500\n",
      "\n"
     ]
    }
   ],
   "source": [
    "print(classification_report(ytest,ypred))"
   ]
  },
  {
   "cell_type": "code",
   "execution_count": null,
   "metadata": {
    "papermill": {
     "duration": 0.026587,
     "end_time": "2021-07-11T07:24:31.645820",
     "exception": false,
     "start_time": "2021-07-11T07:24:31.619233",
     "status": "completed"
    },
    "tags": []
   },
   "outputs": [],
   "source": []
  },
  {
   "cell_type": "code",
   "execution_count": null,
   "metadata": {
    "papermill": {
     "duration": 0.026717,
     "end_time": "2021-07-11T07:24:31.699786",
     "exception": false,
     "start_time": "2021-07-11T07:24:31.673069",
     "status": "completed"
    },
    "tags": []
   },
   "outputs": [],
   "source": []
  },
  {
   "cell_type": "code",
   "execution_count": 41,
   "metadata": {
    "execution": {
     "iopub.execute_input": "2021-07-11T07:24:31.759325Z",
     "iopub.status.busy": "2021-07-11T07:24:31.758749Z",
     "iopub.status.idle": "2021-07-11T07:24:31.788916Z",
     "shell.execute_reply": "2021-07-11T07:24:31.788409Z",
     "shell.execute_reply.started": "2021-07-11T07:19:50.834193Z"
    },
    "papermill": {
     "duration": 0.062344,
     "end_time": "2021-07-11T07:24:31.789052",
     "exception": false,
     "start_time": "2021-07-11T07:24:31.726708",
     "status": "completed"
    },
    "tags": []
   },
   "outputs": [],
   "source": [
    "#Naive Bayes model\n",
    "nb =GaussianNB()\n",
    "model_v3 = nb.fit(xtrain,ytrain)\n"
   ]
  },
  {
   "cell_type": "code",
   "execution_count": 42,
   "metadata": {
    "execution": {
     "iopub.execute_input": "2021-07-11T07:24:31.848561Z",
     "iopub.status.busy": "2021-07-11T07:24:31.847987Z",
     "iopub.status.idle": "2021-07-11T07:24:32.070852Z",
     "shell.execute_reply": "2021-07-11T07:24:32.071288Z",
     "shell.execute_reply.started": "2021-07-11T07:19:50.868338Z"
    },
    "papermill": {
     "duration": 0.255499,
     "end_time": "2021-07-11T07:24:32.071445",
     "exception": false,
     "start_time": "2021-07-11T07:24:31.815946",
     "status": "completed"
    },
    "tags": []
   },
   "outputs": [
    {
     "data": {
      "text/plain": [
       "<matplotlib.axes._subplots.AxesSubplot at 0x285827ef040>"
      ]
     },
     "execution_count": 42,
     "metadata": {},
     "output_type": "execute_result"
    },
    {
     "data": {
      "image/png": "[encoded data removed]",
      "text/plain": [
       "<Figure size 432x288 with 2 Axes>"
      ]
     },
     "metadata": {
      "needs_background": "light"
     },
     "output_type": "display_data"
    }
   ],
   "source": [
    "ypred = model_v3.predict(xtest)\n",
    "cm = confusion_matrix(ytest,ypred)\n",
    "sns.heatmap(cm,annot=True)"
   ]
  },
  {
   "cell_type": "code",
   "execution_count": 43,
   "metadata": {
    "execution": {
     "iopub.execute_input": "2021-07-11T07:24:32.132859Z",
     "iopub.status.busy": "2021-07-11T07:24:32.131919Z",
     "iopub.status.idle": "2021-07-11T07:24:32.201831Z",
     "shell.execute_reply": "2021-07-11T07:24:32.202726Z",
     "shell.execute_reply.started": "2021-07-11T07:19:51.115360Z"
    },
    "papermill": {
     "duration": 0.103813,
     "end_time": "2021-07-11T07:24:32.202949",
     "exception": false,
     "start_time": "2021-07-11T07:24:32.099136",
     "status": "completed"
    },
    "tags": []
   },
   "outputs": [
    {
     "name": "stdout",
     "output_type": "stream",
     "text": [
      "              precision    recall  f1-score   support\n",
      "\n",
      "           0       1.00      0.98      0.99      4474\n",
      "           1       0.18      0.65      0.29        26\n",
      "\n",
      "    accuracy                           0.98      4500\n",
      "   macro avg       0.59      0.82      0.64      4500\n",
      "weighted avg       0.99      0.98      0.99      4500\n",
      "\n"
     ]
    }
   ],
   "source": [
    "print(classification_report(ytest,ypred))"
   ]
  },
  {
   "cell_type": "code",
   "execution_count": 44,
   "metadata": {
    "execution": {
     "iopub.execute_input": "2021-07-11T07:24:32.270558Z",
     "iopub.status.busy": "2021-07-11T07:24:32.269525Z",
     "iopub.status.idle": "2021-07-11T07:24:32.553005Z",
     "shell.execute_reply": "2021-07-11T07:24:32.552230Z",
     "shell.execute_reply.started": "2021-07-11T07:19:51.186656Z"
    },
    "papermill": {
     "duration": 0.320544,
     "end_time": "2021-07-11T07:24:32.553145",
     "exception": false,
     "start_time": "2021-07-11T07:24:32.232601",
     "status": "completed"
    },
    "tags": []
   },
   "outputs": [
    {
     "data": {
      "image/png": "[encoded data removed]",
      "text/plain": [
       "<Figure size 432x288 with 1 Axes>"
      ]
     },
     "metadata": {
      "needs_background": "light"
     },
     "output_type": "display_data"
    }
   ],
   "source": [
    "#### ROC curve\n",
    "## Logistic Regression Model\n",
    "prob = model_v1.predict_proba(xtest)[:,1]\n",
    "fpr,tpr,threshold = roc_curve(ytest,prob)\n",
    "#Plotting Roc Curve\n",
    "plt.plot(fpr,tpr)\n",
    "plt.plot([[0,0],[1,1]],color='red',linestyle = '-')\n",
    "plt.xlabel('FPR')\n",
    "plt.ylabel('TPR')\n",
    "plt.title('ROC Curve')\n",
    "plt.show()"
   ]
  },
  {
   "cell_type": "code",
   "execution_count": 45,
   "metadata": {
    "execution": {
     "iopub.execute_input": "2021-07-11T07:24:32.618367Z",
     "iopub.status.busy": "2021-07-11T07:24:32.617797Z",
     "iopub.status.idle": "2021-07-11T07:24:34.831082Z",
     "shell.execute_reply": "2021-07-11T07:24:34.831514Z",
     "shell.execute_reply.started": "2021-07-11T07:19:51.377134Z"
    },
    "papermill": {
     "duration": 2.249126,
     "end_time": "2021-07-11T07:24:34.831668",
     "exception": false,
     "start_time": "2021-07-11T07:24:32.582542",
     "status": "completed"
    },
    "tags": []
   },
   "outputs": [
    {
     "data": {
      "image/png": "[encoded data removed]",
      "text/plain": [
       "<Figure size 432x288 with 1 Axes>"
      ]
     },
     "metadata": {
      "needs_background": "light"
     },
     "output_type": "display_data"
    }
   ],
   "source": [
    "## KNN Classifier Model\n",
    "prob1 = model_v2.predict_proba(xtest)[:,1]\n",
    "fpr,tpr,threshold = roc_curve(ytest,prob1)\n",
    "#Plotting Roc Curve\n",
    "plt.plot(fpr,tpr)\n",
    "plt.plot([[0,0],[1,1]],color='red',linestyle = '-')\n",
    "plt.xlabel('FPR')\n",
    "plt.ylabel('TPR')\n",
    "plt.title('ROC Curve')\n",
    "plt.show()"
   ]
  },
  {
   "cell_type": "code",
   "execution_count": 46,
   "metadata": {
    "execution": {
     "iopub.execute_input": "2021-07-11T07:24:34.898056Z",
     "iopub.status.busy": "2021-07-11T07:24:34.897456Z",
     "iopub.status.idle": "2021-07-11T07:24:35.033627Z",
     "shell.execute_reply": "2021-07-11T07:24:35.034088Z",
     "shell.execute_reply.started": "2021-07-11T07:19:53.905694Z"
    },
    "papermill": {
     "duration": 0.172834,
     "end_time": "2021-07-11T07:24:35.034264",
     "exception": false,
     "start_time": "2021-07-11T07:24:34.861430",
     "status": "completed"
    },
    "tags": []
   },
   "outputs": [
    {
     "data": {
      "image/png": "[encoded data removed]",
      "text/plain": [
       "<Figure size 432x288 with 1 Axes>"
      ]
     },
     "metadata": {
      "needs_background": "light"
     },
     "output_type": "display_data"
    }
   ],
   "source": [
    "## Naive Bayes Model\n",
    "prob2 = model_v3.predict_proba(xtest)[:,1]\n",
    "fpr,tpr,threshold = roc_curve(ytest,prob2)\n",
    "#Plotting Roc Curve\n",
    "plt.plot(fpr,tpr)\n",
    "plt.plot([[0,0],[1,1]],color='red',linestyle = '-')\n",
    "plt.xlabel('FPR')\n",
    "plt.ylabel('TPR')\n",
    "plt.title('ROC Curve')\n",
    "plt.show()"
   ]
  },
  {
   "cell_type": "code",
   "execution_count": 47,
   "metadata": {},
   "outputs": [
    {
     "name": "stdout",
     "output_type": "stream",
     "text": [
      "KNN: 0.994952 (0.001706)\n",
      "LR: 0.993429 (0.002018)\n",
      "NB: 0.978571 (0.005203)\n"
     ]
    },
    {
     "data": {
      "image/png": "[encoded data removed]",
      "text/plain": [
       "<Figure size 432x288 with 1 Axes>"
      ]
     },
     "metadata": {
      "needs_background": "light"
     },
     "output_type": "display_data"
    }
   ],
   "source": [
    "from sklearn.model_selection import cross_val_score\n",
    "from sklearn import model_selection\n",
    "seed = 7\n",
    "# prepare models\n",
    "models = []\n",
    "models.append(('KNN', KNeighborsClassifier()))\n",
    "models.append(('LR',LogisticRegression()))\n",
    "models.append(('NB', GaussianNB()))\n",
    "# evaluate each model in turn\n",
    "results = []\n",
    "names = []\n",
    "scoring = 'accuracy'\n",
    "for name, model in models:\n",
    "    kfold = model_selection.KFold(n_splits=10, random_state=seed)\n",
    "    cv_results = model_selection.cross_val_score(model, xtrain, ytrain, cv=kfold, scoring=scoring)\n",
    "    results.append(cv_results)\n",
    "    names.append(name)\n",
    "    msg = \"%s: %f (%f)\" % (name, cv_results.mean(), cv_results.std())\n",
    "    print(msg)\n",
    "# boxplot algorithm comparison\n",
    "fig = plt.figure()\n",
    "fig.suptitle('Algorithm Comparison')\n",
    "ax = fig.add_subplot(111)\n",
    "plt.boxplot(results)\n",
    "ax.set_xticklabels(names)\n",
    "plt.show()"
   ]
  },
  {
   "cell_type": "markdown",
   "metadata": {
    "papermill": {
     "duration": 0.030498,
     "end_time": "2021-07-11T07:24:35.095843",
     "exception": false,
     "start_time": "2021-07-11T07:24:35.065345",
     "status": "completed"
    },
    "tags": []
   },
   "source": [
    "# <h>Conclusion</h>\n",
    "1. KNN Classifier gave the best ROC curve followed by Logistic Regression then Naive Bayes\n",
    "2. But when it comes to scores , I consider f1_weighted average score as the best one ; in that regard all 3 models gave 0.99 in classification report\n",
    "3. Since KNN Classifier had edge in ROC curve , I am concluding it is as the most reliable model to give a prediction out of the three models"
   ]
  },
  {
   "cell_type": "markdown",
   "metadata": {
    "papermill": {
     "duration": 0.030062,
     "end_time": "2021-07-11T07:24:35.156922",
     "exception": false,
     "start_time": "2021-07-11T07:24:35.126860",
     "status": "completed"
    },
    "tags": []
   },
   "source": [
    "# Prediction"
   ]
  },
  {
   "cell_type": "code",
   "execution_count": 48,
   "metadata": {
    "execution": {
     "iopub.execute_input": "2021-07-11T07:24:35.223420Z",
     "iopub.status.busy": "2021-07-11T07:24:35.222835Z",
     "iopub.status.idle": "2021-07-11T07:24:38.470547Z",
     "shell.execute_reply": "2021-07-11T07:24:38.471075Z",
     "shell.execute_reply.started": "2021-07-11T07:19:54.050883Z"
    },
    "papermill": {
     "duration": 3.284005,
     "end_time": "2021-07-11T07:24:38.471248",
     "exception": false,
     "start_time": "2021-07-11T07:24:35.187243",
     "status": "completed"
    },
    "tags": []
   },
   "outputs": [],
   "source": [
    "ypred = model_v2.predict(xtest)"
   ]
  },
  {
   "cell_type": "code",
   "execution_count": 49,
   "metadata": {
    "execution": {
     "iopub.execute_input": "2021-07-11T07:24:38.538003Z",
     "iopub.status.busy": "2021-07-11T07:24:38.537348Z",
     "iopub.status.idle": "2021-07-11T07:24:38.545584Z",
     "shell.execute_reply": "2021-07-11T07:24:38.545024Z",
     "shell.execute_reply.started": "2021-07-11T07:21:35.940796Z"
    },
    "papermill": {
     "duration": 0.043725,
     "end_time": "2021-07-11T07:24:38.545733",
     "exception": false,
     "start_time": "2021-07-11T07:24:38.502008",
     "status": "completed"
    },
    "tags": []
   },
   "outputs": [],
   "source": [
    "prediction = pd.DataFrame()\n",
    "prediction['Serial No.'] = xtest.index\n",
    "prediction['is_fraud_pred'] = ypred"
   ]
  },
  {
   "cell_type": "code",
   "execution_count": 50,
   "metadata": {
    "execution": {
     "iopub.execute_input": "2021-07-11T07:24:38.613707Z",
     "iopub.status.busy": "2021-07-11T07:24:38.612732Z",
     "iopub.status.idle": "2021-07-11T07:24:38.622535Z",
     "shell.execute_reply": "2021-07-11T07:24:38.623043Z",
     "shell.execute_reply.started": "2021-07-11T07:22:10.848881Z"
    },
    "papermill": {
     "duration": 0.046933,
     "end_time": "2021-07-11T07:24:38.623213",
     "exception": false,
     "start_time": "2021-07-11T07:24:38.576280",
     "status": "completed"
    },
    "tags": []
   },
   "outputs": [
    {
     "data": {
      "text/html": [
       "<div>\n",
       "<style scoped>\n",
       "    .dataframe tbody tr th:only-of-type {\n",
       "        vertical-align: middle;\n",
       "    }\n",
       "\n",
       "    .dataframe tbody tr th {\n",
       "        vertical-align: top;\n",
       "    }\n",
       "\n",
       "    .dataframe thead th {\n",
       "        text-align: right;\n",
       "    }\n",
       "</style>\n",
       "<table border=\"1\" class=\"dataframe\">\n",
       "  <thead>\n",
       "    <tr style=\"text-align: right;\">\n",
       "      <th></th>\n",
       "      <th>Serial No.</th>\n",
       "      <th>is_fraud_pred</th>\n",
       "    </tr>\n",
       "  </thead>\n",
       "  <tbody>\n",
       "    <tr>\n",
       "      <th>7</th>\n",
       "      <td>6110</td>\n",
       "      <td>1</td>\n",
       "    </tr>\n",
       "    <tr>\n",
       "      <th>177</th>\n",
       "      <td>3722</td>\n",
       "      <td>1</td>\n",
       "    </tr>\n",
       "    <tr>\n",
       "      <th>273</th>\n",
       "      <td>4397</td>\n",
       "      <td>1</td>\n",
       "    </tr>\n",
       "    <tr>\n",
       "      <th>346</th>\n",
       "      <td>4744</td>\n",
       "      <td>1</td>\n",
       "    </tr>\n",
       "    <tr>\n",
       "      <th>461</th>\n",
       "      <td>7990</td>\n",
       "      <td>1</td>\n",
       "    </tr>\n",
       "    <tr>\n",
       "      <th>854</th>\n",
       "      <td>14335</td>\n",
       "      <td>1</td>\n",
       "    </tr>\n",
       "    <tr>\n",
       "      <th>1882</th>\n",
       "      <td>12069</td>\n",
       "      <td>1</td>\n",
       "    </tr>\n",
       "    <tr>\n",
       "      <th>1902</th>\n",
       "      <td>5612</td>\n",
       "      <td>1</td>\n",
       "    </tr>\n",
       "    <tr>\n",
       "      <th>1932</th>\n",
       "      <td>14370</td>\n",
       "      <td>1</td>\n",
       "    </tr>\n",
       "    <tr>\n",
       "      <th>1933</th>\n",
       "      <td>11586</td>\n",
       "      <td>1</td>\n",
       "    </tr>\n",
       "    <tr>\n",
       "      <th>2064</th>\n",
       "      <td>4654</td>\n",
       "      <td>1</td>\n",
       "    </tr>\n",
       "    <tr>\n",
       "      <th>2364</th>\n",
       "      <td>14472</td>\n",
       "      <td>1</td>\n",
       "    </tr>\n",
       "    <tr>\n",
       "      <th>2476</th>\n",
       "      <td>14206</td>\n",
       "      <td>1</td>\n",
       "    </tr>\n",
       "    <tr>\n",
       "      <th>2584</th>\n",
       "      <td>7214</td>\n",
       "      <td>1</td>\n",
       "    </tr>\n",
       "    <tr>\n",
       "      <th>2814</th>\n",
       "      <td>5863</td>\n",
       "      <td>1</td>\n",
       "    </tr>\n",
       "    <tr>\n",
       "      <th>2956</th>\n",
       "      <td>6057</td>\n",
       "      <td>1</td>\n",
       "    </tr>\n",
       "    <tr>\n",
       "      <th>3259</th>\n",
       "      <td>919</td>\n",
       "      <td>1</td>\n",
       "    </tr>\n",
       "    <tr>\n",
       "      <th>3352</th>\n",
       "      <td>12099</td>\n",
       "      <td>1</td>\n",
       "    </tr>\n",
       "    <tr>\n",
       "      <th>3381</th>\n",
       "      <td>13259</td>\n",
       "      <td>1</td>\n",
       "    </tr>\n",
       "    <tr>\n",
       "      <th>3465</th>\n",
       "      <td>7529</td>\n",
       "      <td>1</td>\n",
       "    </tr>\n",
       "    <tr>\n",
       "      <th>3870</th>\n",
       "      <td>3600</td>\n",
       "      <td>1</td>\n",
       "    </tr>\n",
       "    <tr>\n",
       "      <th>4393</th>\n",
       "      <td>14413</td>\n",
       "      <td>1</td>\n",
       "    </tr>\n",
       "  </tbody>\n",
       "</table>\n",
       "</div>"
      ],
      "text/plain": [
       "      Serial No.  is_fraud_pred\n",
       "7           6110              1\n",
       "177         3722              1\n",
       "273         4397              1\n",
       "346         4744              1\n",
       "461         7990              1\n",
       "854        14335              1\n",
       "1882       12069              1\n",
       "1902        5612              1\n",
       "1932       14370              1\n",
       "1933       11586              1\n",
       "2064        4654              1\n",
       "2364       14472              1\n",
       "2476       14206              1\n",
       "2584        7214              1\n",
       "2814        5863              1\n",
       "2956        6057              1\n",
       "3259         919              1\n",
       "3352       12099              1\n",
       "3381       13259              1\n",
       "3465        7529              1\n",
       "3870        3600              1\n",
       "4393       14413              1"
      ]
     },
     "execution_count": 50,
     "metadata": {},
     "output_type": "execute_result"
    }
   ],
   "source": [
    "prediction[prediction['is_fraud_pred']==1]"
   ]
  },
  {
   "cell_type": "code",
   "execution_count": 69,
   "metadata": {},
   "outputs": [],
   "source": [
    "import numpy as np\n",
    "\n",
    "\n",
    "class LogisticRegression:\n",
    "    def _init_(self, learning_rate=0.001, n_iters=1000):\n",
    "        self.lr = learning_rate\n",
    "        self.n_iters = n_iters\n",
    "        self.weights = None\n",
    "        self.bias = None\n",
    "\n",
    "    def fit(self, X, y):\n",
    "        n_samples, n_features = X.shape\n",
    "\n",
    "        # init parameters\n",
    "        self.weights = np.zeros(n_features)\n",
    "        self.bias = 0\n",
    "\n",
    "        # gradient descent\n",
    "        for _ in range(self.n_iters):\n",
    "            # approximate y with linear combination of weights and x, plus bias\n",
    "            linear_model = np.dot(X, self.weights) + self.bias\n",
    "            # apply sigmoid function\n",
    "            y_predicted = self._sigmoid(linear_model)\n",
    "\n",
    "            # compute gradients\n",
    "            dw = (1 / n_samples) * np.dot(X.T, (y_predicted - y))\n",
    "            db = (1 / n_samples) * np.sum(y_predicted - y)\n",
    "            # update parameters\n",
    "            self.weights -= self.lr * dw\n",
    "            self.bias -= self.lr * db\n",
    "\n",
    "    def predict(self, X):\n",
    "        linear_model = np.dot(X, self.weights) + self.bias\n",
    "        y_predicted = self._sigmoid(linear_model)\n",
    "        y_predicted_cls = [1 if i > 0.5 else 0 for i in y_predicted]\n",
    "        return np.array(y_predicted_cls)\n",
    "\n",
    "    def _sigmoid(self, x):\n",
    "        return 1 / (1 + np.exp(-x))\n",
    "\n",
    "\n",
    "# Testing\n",
    "if __name__ == \"_main_\":\n",
    "    # Imports\n",
    "    from sklearn.model_selection import train_test_split\n",
    "    from sklearn import datasets\n",
    "\n",
    "    def accuracy(y_true, y_pred):\n",
    "        accuracy = np.sum(y_true == y_pred) / len(y_true)\n",
    "        return accuracy\n",
    "\n",
    "   \n",
    "    X,y = df_num.iloc[ : , :-1], df_num.iloc [ : ,-1]\n",
    "    \n",
    "\n",
    "    X_train, X_test, y_train, y_test = train_test_split(\n",
    "        x, y, test_size=0.2, random_state=1234\n",
    "    )\n",
    "\n",
    "    regressor = LogisticRegression(learning_rate=0.0001, n_iters=1000)\n",
    "    regressor.fit(X_train, y_train)\n",
    "    predictions = regressor.predict(X_test)\n",
    "\n",
    "    print(\"LR classification accuracy:\", accuracy(y_test, predictions))"
   ]
  },
  {
   "cell_type": "code",
   "execution_count": null,
   "metadata": {},
   "outputs": [],
   "source": []
  }
 ],
 "metadata": {
  "kernelspec": {
   "display_name": "Python 3",
   "language": "python",
   "name": "python3"
  },
  "language_info": {
   "codemirror_mode": {
    "name": "ipython",
    "version": 3
   },
   "file_extension": ".py",
   "mimetype": "text/x-python",
   "name": "python",
   "nbconvert_exporter": "python",
   "pygments_lexer": "ipython3",
   "version": "3.8.3"
  },
  "papermill": {
   "default_parameters": {},
   "duration": 40.680552,
   "end_time": "2021-07-11T07:24:39.688076",
   "environment_variables": {},
   "exception": null,
   "input_path": "__notebook__.ipynb",
   "output_path": "__notebook__.ipynb",
   "parameters": {},
   "start_time": "2021-07-11T07:23:59.007524",
   "version": "2.3.3"
  }
 },
 "nbformat": 4,
 "nbformat_minor": 5
}
